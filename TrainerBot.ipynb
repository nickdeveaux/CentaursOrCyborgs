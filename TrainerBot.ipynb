{
 "cells": [
  {
   "cell_type": "markdown",
   "id": "c9bb4862",
   "metadata": {},
   "source": [
    "## Google Drive Setup"
   ]
  },
  {
   "cell_type": "code",
   "execution_count": 2,
   "id": "d2e695e6",
   "metadata": {},
   "outputs": [],
   "source": [
    "folder_id = <Enter ID Here> #workouts folder ID in Google Drive "
   ]
  },
  {
   "cell_type": "code",
   "execution_count": 3,
   "id": "f17cbe94",
   "metadata": {},
   "outputs": [],
   "source": [
    "credentials_path= <enter json file here>\n",
    "# Follow the following guide to generate either OAuth or Service Account creds\n",
    "# https://developers.google.com/workspace/guides/create-credentials"
   ]
  },
  {
   "cell_type": "code",
   "execution_count": 4,
   "id": "73ea5c4a",
   "metadata": {},
   "outputs": [],
   "source": [
    "token_file = '~/.credentials/token.json'\n",
    "\n",
    "# If modifying these scopes, delete the file token.json.\n",
    "SCOPES = ['https://www.googleapis.com/auth/drive']"
   ]
  },
  {
   "cell_type": "code",
   "execution_count": 5,
   "id": "ae50ce9d",
   "metadata": {},
   "outputs": [],
   "source": [
    "import os\n",
    "from googleapiclient.discovery import build\n",
    "from google.auth.transport.requests import Request\n",
    "from google.oauth2.credentials import Credentials\n",
    "from google_auth_oauthlib.flow import InstalledAppFlow\n",
    "from googleapiclient.errors import HttpError"
   ]
  },
  {
   "cell_type": "code",
   "execution_count": 37,
   "id": "c176d4f6",
   "metadata": {},
   "outputs": [],
   "source": [
    "def authorize_and_print():\n",
    "    creds = None\n",
    "    # The file token.json stores the user's access and refresh tokens, and is\n",
    "    # created automatically when the authorization flow completes for the first\n",
    "    # time.\n",
    "    if os.path.exists(token_file):\n",
    "        creds = Credentials.from_authorized_user_file(token_file, SCOPES)\n",
    "    # If there are no (valid) credentials available, let the user log in.\n",
    "    if not creds or not creds.valid:\n",
    "        if creds and creds.expired and creds.refresh_token:\n",
    "            print('Requesting new token')\n",
    "            creds.refresh(Request())\n",
    "        else:\n",
    "            print('First run through so putting up login dialog')\n",
    "            # credentials.json downloaded from https://console.cloud.google.com/apis/credentials\n",
    "            flow = InstalledAppFlow.from_client_secrets_file(\n",
    "                credentials_path, SCOPES)\n",
    "            creds = flow.run_local_server(port=0)\n",
    "        # Save the credentials for the next run\n",
    "        with open(token_file, 'w') as token:\n",
    "            print('Saving new token')\n",
    "            print('')\n",
    "            token.write(creds.to_json())\n",
    "    else:\n",
    "        print('Token valid')\n",
    "\n",
    "\n",
    "    service = build('drive', 'v3', credentials=creds)\n",
    "    \n",
    "    # Initialize the Google Docs API service\n",
    "    docs_service = build('docs', 'v1', credentials=creds)\n",
    "\n",
    "    # 0. About the user\n",
    "    results = service.about().get(fields=\"*\").execute()\n",
    "    emailAddress = results['user']['emailAddress']\n",
    "\n",
    "    # 1. Call the Drive v3 API\n",
    "    results = service.files().list(\n",
    "        pageSize=100,\n",
    "        fields=\"nextPageToken, files(id, name)\",\n",
    "        q=\"'{}' in parents\".format(folder_id)  # Query to filter files by parent folder\n",
    "    ).execute()\n",
    "    items = results.get('files', [])\n",
    "\n",
    "    if not items:\n",
    "        print('No files found.')\n",
    "        return\n",
    "    print('Files:')\n",
    "    for item in items:\n",
    "        print(u'{0} ({1})'.format(item['name'], item['id']))\n",
    "    return service, docs_service\n"
   ]
  },
  {
   "cell_type": "code",
   "execution_count": 38,
   "id": "ed47397e",
   "metadata": {},
   "outputs": [
    {
     "name": "stdout",
     "output_type": "stream",
     "text": [
      "Token valid\n",
      "Files:\n",
      "Intentions (1EhL5Ao7IXgQckDN1Ig3wt5Uq7LczAxe6-8aTzE1MRBM)\n",
      "2024-02-12 (1lqQEFqsmpcftbKDciSICv4qN4HaM9T8dIjFr9Nh7F6s)\n",
      "Reference Exercises (1dKFus6qAbF1FX17FKik8AsLJWck5Tru96fDO_mE4b3U)\n",
      "2024-02-08 (1QLQ63lqM2A6-Bim0hl1w_ia4DdyD8juNkYvDTvaz3Xk)\n",
      "2023-08-09 (1dVZxmmtxbKZtMSoiXyV8kXb5smjramS9HKTq9pDQazI)\n"
     ]
    }
   ],
   "source": [
    "service, docs_service = authorize_and_print()"
   ]
  },
  {
   "cell_type": "markdown",
   "id": "5e828dcc",
   "metadata": {},
   "source": [
    "## Google Doc Creation Tool"
   ]
  },
  {
   "cell_type": "code",
   "execution_count": 9,
   "id": "5ae0a168",
   "metadata": {},
   "outputs": [],
   "source": [
    "def create_google_doc(service, file_name='test_creation', folder_id=folder_id):\n",
    "    file_metadata = {\n",
    "        'name': file_name,\n",
    "        'mimeType': 'application/vnd.google-apps.document'\n",
    "    }\n",
    "    if folder_id:\n",
    "        file_metadata['parents'] = [folder_id]\n",
    "\n",
    "    file = service.files().create(body=file_metadata, fields='id').execute()\n",
    "    print(f\"Created Google Doc with ID: {file.get('id')}\")\n",
    "    return file.get('id')\n"
   ]
  },
  {
   "cell_type": "code",
   "execution_count": 10,
   "id": "f0db62a7",
   "metadata": {},
   "outputs": [],
   "source": [
    "def insert_text(document_id, text, index=1):\n",
    "    requests = [\n",
    "        {\n",
    "            'insertText': {\n",
    "                'location': {\n",
    "                    'index': index,\n",
    "                },\n",
    "                'text': text\n",
    "            }\n",
    "        }\n",
    "    ]\n",
    "\n",
    "    result = docs_service.documents().batchUpdate(documentId=document_id, body={'requests': requests}).execute()\n",
    "    print(f\"Text inserted into document with ID: {document_id}\")"
   ]
  },
  {
   "cell_type": "code",
   "execution_count": 11,
   "id": "3f14a326",
   "metadata": {},
   "outputs": [],
   "source": [
    "# Import the tool decorator\n",
    "from langchain.tools import BaseTool, StructuredTool, tool\n",
    "\n",
    "@tool\n",
    "def create_new_doc_with_text(input_data):\n",
    "    \"\"\"Create a new Google Doc with specified text as input, file_name as a parameter\n",
    "    \"input_text\": \"Here is some text for the document: a structured workout log\",\n",
    "    \"file_name\": \"YYYY-MM-DD\",\n",
    "    .\"\"\"\n",
    "    input_text = input_data['input_text']\n",
    "    file_name = input_data['file_name']\n",
    "    doc_id = create_google_doc(service, file_name)\n",
    "    return insert_text(doc_id, input_text)"
   ]
  },
  {
   "cell_type": "markdown",
   "id": "2961b344",
   "metadata": {},
   "source": [
    "## Retrieval Tool"
   ]
  },
  {
   "cell_type": "code",
   "execution_count": 12,
   "id": "f583a717",
   "metadata": {},
   "outputs": [
    {
     "data": {
      "text/plain": [
       "True"
      ]
     },
     "execution_count": 12,
     "metadata": {},
     "output_type": "execute_result"
    }
   ],
   "source": [
    "# implementing https://python.langchain.com/docs/use_cases/question_answering/conversational_retrieval_agents\n",
    "from dotenv import find_dotenv, load_dotenv\n",
    "from langchain.document_loaders import GoogleDriveLoader\n",
    "from langchain_openai import OpenAIEmbeddings\n",
    "from langchain.vectorstores import Chroma\n",
    "from langchain.text_splitter import CharacterTextSplitter\n",
    "from langchain.chains import RetrievalQA\n",
    "\n",
    "# Load environment variables from .env file\n",
    "load_dotenv(find_dotenv())"
   ]
  },
  {
   "cell_type": "code",
   "execution_count": 13,
   "id": "ea1c48db",
   "metadata": {},
   "outputs": [],
   "source": [
    "# Initialize Google Drive loader\n",
    "loader = GoogleDriveLoader(\n",
    "    folder_id=folder_id, #workouts nickmarveaux@gmail.com. \n",
    "    credentials_path=credentials_path,\n",
    "    recursive=False\n",
    ")\n",
    "docs = loader.load()\n"
   ]
  },
  {
   "cell_type": "code",
   "execution_count": 14,
   "id": "1a8c9c4d",
   "metadata": {},
   "outputs": [],
   "source": [
    "from langchain.text_splitter import CharacterTextSplitter\n",
    "from langchain_community.vectorstores import FAISS\n",
    "from langchain_openai import OpenAIEmbeddings\n",
    "\n",
    "text_splitter = CharacterTextSplitter(chunk_size=1000, chunk_overlap=0)\n",
    "texts = text_splitter.split_documents(docs)\n",
    "embeddings = OpenAIEmbeddings()\n",
    "db = FAISS.from_documents(texts, embeddings)"
   ]
  },
  {
   "cell_type": "code",
   "execution_count": 15,
   "id": "01f8ee7a",
   "metadata": {},
   "outputs": [],
   "source": [
    "retriever = db.as_retriever()"
   ]
  },
  {
   "cell_type": "markdown",
   "id": "3a810fd9",
   "metadata": {},
   "source": [
    "## Formatted Date Tool"
   ]
  },
  {
   "cell_type": "code",
   "execution_count": 16,
   "id": "5af03737",
   "metadata": {},
   "outputs": [],
   "source": [
    "from datetime import datetime\n",
    "import pytz\n",
    "\n",
    "@tool\n",
    "def get_todays_date_nyc():\n",
    "    \"\"\"Get today's date in NYC (the user's hometown) in YYYY-MM-DD format.\"\"\"\n",
    "\n",
    "    # Define the Eastern Time Zone\n",
    "    eastern = pytz.timezone('America/New_York')\n",
    "    \n",
    "    # Get the current datetime in Eastern Time\n",
    "    datetime_nyc = datetime.now(eastern)\n",
    "    \n",
    "    # Format the date as YYYY-MM-DD\n",
    "    return datetime_nyc.strftime('%Y-%m-%d')"
   ]
  },
  {
   "cell_type": "markdown",
   "id": "5d69e430",
   "metadata": {},
   "source": [
    "## Combining all the tools"
   ]
  },
  {
   "cell_type": "code",
   "execution_count": 20,
   "id": "9a64552b",
   "metadata": {},
   "outputs": [],
   "source": [
    "from langchain.tools.retriever import create_retriever_tool\n",
    "from langchain.tools import BaseTool, StructuredTool, Tool, tool, DuckDuckGoSearchRun\n",
    "\n",
    "\n",
    "name = \"search_past_workouts\"\n",
    "desc = \"searches past workouts and the overall intenations (file: intentions)\"\n",
    "document_retrieval_tool = create_retriever_tool(\n",
    "    retriever,\n",
    "    name,\n",
    "    desc\n",
    ")\n",
    "search = DuckDuckGoSearchRun()\n",
    "\n",
    "internet_search_tool = Tool.from_function(\n",
    "    func=search.run,\n",
    "    name=\"internet_search\",\n",
    "    description=\"useful for when you need to search the internet for information\"\n",
    ")\n",
    "tools = [document_retrieval_tool, internet_search_tool, get_todays_date_nyc, create_new_doc_with_text]"
   ]
  },
  {
   "cell_type": "markdown",
   "id": "09b2acac",
   "metadata": {},
   "source": [
    "## Prompt Engineering"
   ]
  },
  {
   "cell_type": "code",
   "execution_count": 17,
   "id": "46b2e4c4",
   "metadata": {},
   "outputs": [
    {
     "data": {
      "text/plain": [
       "PromptTemplate(input_variables=[], template='You are a helpful assistant')"
      ]
     },
     "execution_count": 17,
     "metadata": {},
     "output_type": "execute_result"
    }
   ],
   "source": [
    "from langchain import hub\n",
    "prompt = hub.pull(\"hwchase17/openai-tools-agent\")\n",
    "prompt.messages[0].prompt"
   ]
  },
  {
   "cell_type": "code",
   "execution_count": 18,
   "id": "423d4275",
   "metadata": {},
   "outputs": [],
   "source": [
    "prompt.messages[0].prompt.template = \"\"\"\n",
    "You are a helpful workout assistant. Use your get_todays_date_nyc to find today's date.\n",
    "\n",
    "You will output workout logs, using a tool to save them to new file whose name is the date YYYY-MM-DD.\n",
    "\n",
    "You will only log exercises whose name exactly matches the name of exercises in the Reference Exercises doc.\n",
    "\n",
    "You can try to coach the user, using their personal preferences as saved in the Preferences document.\n",
    "\n",
    "If a user asks if there are any workouts stored for a previous date, check the title of the document: \n",
    "the title has to exactly match the date in format YYYY-MM-DD for that to count as a valid log of that day's workout.\n",
    "Logging past exercises is also a feature you support\"\"\"\n"
   ]
  },
  {
   "cell_type": "code",
   "execution_count": 21,
   "id": "daaecd9e",
   "metadata": {},
   "outputs": [],
   "source": [
    "from langchain_openai import ChatOpenAI\n",
    "\n",
    "llm = ChatOpenAI(temperature=0.4, model='gpt-4-0125-preview')\n",
    "from langchain.agents import AgentExecutor, create_openai_tools_agent\n",
    "\n",
    "agent = create_openai_tools_agent(llm, tools, prompt)\n",
    "agent_executor = AgentExecutor(agent=agent, tools=tools, verbose=True)"
   ]
  },
  {
   "cell_type": "code",
   "execution_count": 22,
   "id": "8419043c",
   "metadata": {},
   "outputs": [
    {
     "name": "stdout",
     "output_type": "stream",
     "text": [
      "\n",
      "\n",
      "\u001b[1m> Entering new AgentExecutor chain...\u001b[0m\n",
      "\u001b[32;1m\u001b[1;3mHello, Bob! How can I assist you with your workout today?\u001b[0m\n",
      "\n",
      "\u001b[1m> Finished chain.\u001b[0m\n"
     ]
    }
   ],
   "source": [
    "result = agent_executor.invoke({\"input\": \"hi, im bob\"})"
   ]
  },
  {
   "cell_type": "code",
   "execution_count": 23,
   "id": "8b72c01a",
   "metadata": {},
   "outputs": [],
   "source": [
    "msg = \"Are there any workouts stored for today? What is today's date?\"\n"
   ]
  },
  {
   "cell_type": "code",
   "execution_count": 28,
   "id": "c45042f8",
   "metadata": {},
   "outputs": [
    {
     "data": {
      "text/plain": [
       "'I found workouts stored for the following dates:\\n\\n- February 8, 2024\\n- February 12, 2024\\n- August 9, 2023\\n\\nThese logs contain detailed workout routines, including exercises, repetitions, sets, and additional notes on locations and specific exercise circuits.'"
      ]
     },
     "execution_count": 28,
     "metadata": {},
     "output_type": "execute_result"
    }
   ],
   "source": [
    "result['output']"
   ]
  },
  {
   "cell_type": "code",
   "execution_count": 26,
   "id": "f888a279",
   "metadata": {},
   "outputs": [],
   "source": [
    "msg = \"What dates do you have workouts stored for?\"\n"
   ]
  },
  {
   "cell_type": "code",
   "execution_count": 171,
   "id": "441f5349",
   "metadata": {},
   "outputs": [],
   "source": [
    "msg = \"Are there any workouts stored for August 9 2023?\""
   ]
  },
  {
   "cell_type": "code",
   "execution_count": null,
   "id": "c515b2a3",
   "metadata": {},
   "outputs": [],
   "source": [
    "msg = \"\"\"\n",
    "Log the following workout for Thursday Feb 8th 2024, which is not today (in the past). Note: day-off from XC ski, Sjusjoen Cabin\n",
    "Workout: all Christiania Exercises circuit\n",
    "PT: 20 tibialis raises\n",
    "20x Calf raises per side\n",
    "90second balance\n",
    "Half circle foot pointed, point raises\n",
    "Heria 2023 abs all exercises \n",
    "100 pushups (4x 25)\"\"\""
   ]
  },
  {
   "cell_type": "code",
   "execution_count": 29,
   "id": "972ea1d7",
   "metadata": {},
   "outputs": [],
   "source": [
    "msg = \"I want to log an exercise called Bench Press. Is there any reference exercise similar to that?\""
   ]
  },
  {
   "cell_type": "code",
   "execution_count": 35,
   "id": "88c78faa",
   "metadata": {},
   "outputs": [
    {
     "data": {
      "text/plain": [
       "'Based on the established schedule, starting with January 2024 as Schedule A and alternating each month, April 2024 would be designated as Schedule B. This means for your workouts in April 2024, you should follow the guidelines for Schedule B, which include:\\n\\n- Performing approximately 8-15 repetitions per set with moderate to lighter weights.\\n- Completing 2-3 sets per exercise.\\n- Taking about 90 seconds of rest between sets.\\n\\nThis schedule is part of a periodization plan to optimize strength and muscle hypertrophy by alternating the volume and intensity of your workouts. Schedule B focuses more on endurance and muscle definition by using lighter weights and higher repetitions compared to Schedule A, which emphasizes heavier weights and lower repetitions for building strength.'"
      ]
     },
     "execution_count": 35,
     "metadata": {},
     "output_type": "execute_result"
    }
   ],
   "source": [
    "result['output']"
   ]
  },
  {
   "cell_type": "code",
   "execution_count": 33,
   "id": "becac080",
   "metadata": {},
   "outputs": [],
   "source": [
    "msg = \"Based on my preferences / intentions in terms of schedule A and B (low/high volume), What Schedule of workout am I doing April 2024?\""
   ]
  },
  {
   "cell_type": "markdown",
   "id": "ae824f91",
   "metadata": {},
   "source": [
    "## Future Directions"
   ]
  },
  {
   "cell_type": "markdown",
   "id": "ea29798e",
   "metadata": {},
   "source": [
    "* Improve UI (simple to add this to Slack, tutorials exist). \n",
    "* Function for inputting logs automatically re-initializes the retrieval tool. \n",
    "* \"Code Intepreter\" Environment for creating data visualizations.  "
   ]
  }
 ],
 "metadata": {
  "kernelspec": {
   "display_name": "Python 3 (ipykernel)",
   "language": "python",
   "name": "python3"
  },
  "language_info": {
   "codemirror_mode": {
    "name": "ipython",
    "version": 3
   },
   "file_extension": ".py",
   "mimetype": "text/x-python",
   "name": "python",
   "nbconvert_exporter": "python",
   "pygments_lexer": "ipython3",
   "version": "3.10.9"
  }
 },
 "nbformat": 4,
 "nbformat_minor": 5
}
